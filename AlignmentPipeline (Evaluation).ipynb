{
 "cells": [
  {
   "cell_type": "code",
   "execution_count": 1,
   "metadata": {},
   "outputs": [
    {
     "name": "stderr",
     "output_type": "stream",
     "text": [
      "/home/a_galichin/anaconda3/envs/pytorch/lib/python3.8/site-packages/tqdm/auto.py:22: TqdmWarning: IProgress not found. Please update jupyter and ipywidgets. See https://ipywidgets.readthedocs.io/en/stable/user_install.html\n",
      "  from .autonotebook import tqdm as notebook_tqdm\n"
     ]
    }
   ],
   "source": [
    "from pathlib import Path\n",
    "from hydra.utils import instantiate\n",
    "\n",
    "import numpy as np\n",
    "import matplotlib.pylab as plt\n",
    "\n",
    "import albumentations as A\n",
    "from albumentations.pytorch import ToTensorV2\n",
    "\n",
    "from tqdm import tqdm\n",
    "\n",
    "from src.data.transforms import GrayToRGB\n",
    "from src.data.dataset import ChestXRayAlignmentDataset\n",
    "from src.models import PLAlignmentModel"
   ]
  },
  {
   "cell_type": "code",
   "execution_count": 2,
   "metadata": {},
   "outputs": [],
   "source": [
    "import os.path as osp\n",
    "import re\n",
    "from datetime import datetime\n",
    "from omegaconf import OmegaConf\n",
    "\n",
    "\n",
    "def get_last_ckpt(ckpt_dir):\n",
    "    def epoch_counter(ckpt_path: Path):\n",
    "        s = re.search(r\"epoch=\\d+\", ckpt_path.stem).group(0)\n",
    "        return int(s.split(\"=\")[1])\n",
    "    \n",
    "    ckpt_dir = Path(ckpt_dir)\n",
    "    ckpts = ckpt_dir.glob(\"*.ckpt\")\n",
    "    ckpts = sorted(ckpts, key=epoch_counter)\n",
    "\n",
    "    return ckpts[-1]\n",
    "\n",
    "\n",
    "def get_best_ckpt(ckpt_dir, mode=\"min\", monitor=\"val_loss\"):\n",
    "    def monitor_counter(ckpt_path: Path):\n",
    "        s = re.search(rf\"{monitor}=\\d+.\\d+\", ckpt_path.stem).group(0)\n",
    "        return float(s.split(\"=\")[1])\n",
    "\n",
    "    ckpt_dir = Path(ckpt_dir)\n",
    "    ckpts = ckpt_dir.glob(\"*.ckpt\")\n",
    "    ckpts = sorted(ckpts, key=monitor_counter)\n",
    "\n",
    "    if mode == \"min\":\n",
    "        ckpts = ckpts[::-1]\n",
    "    \n",
    "    return ckpts[-1]\n",
    "\n",
    "\n",
    "def get_last_config(cfg_dir, experiment_name, experiment_step=''):\n",
    "    def sort_configs(paths):\n",
    "        return sorted(\n",
    "            paths,\n",
    "            key=lambda p: datetime.strptime(\n",
    "                \" \".join(p.split(osp.sep)), \"%Y-%m-%d %H-%M-%S\"),\n",
    "            reverse=True\n",
    "        ) \n",
    "    \n",
    "    cfg_dir = Path(cfg_dir)\n",
    "    cfg_paths = list(map(lambda p: str(Path(*p.parts[-2:])), cfg_dir.glob(\"*/*\")))\n",
    "    cfg_paths = list(map(lambda p: cfg_dir / p, sort_configs(cfg_paths)))\n",
    "\n",
    "    for cfg_p in cfg_paths:\n",
    "        cfg = OmegaConf.load(cfg_p / \".hydra\" / \"config.yaml\")\n",
    "\n",
    "        cfg_exp_name = cfg.experiment_name\n",
    "        cfg_exp_step = cfg.get(\"experiment_step\", '')\n",
    "\n",
    "        cond = (cfg_exp_name == experiment_name) \\\n",
    "            and (cfg_exp_step == experiment_step)\n",
    "        if cond:\n",
    "            return cfg\n",
    "\n",
    "    msg = f\"Can't find config for experiment name: {experiment_name} \"\n",
    "    if experiment_step:\n",
    "        msg += f\"and step: {experiment_step}\"\n",
    "    \n",
    "    raise ValueError(msg)"
   ]
  },
  {
   "cell_type": "code",
   "execution_count": 3,
   "metadata": {},
   "outputs": [],
   "source": [
    "main_dir = Path(\"/home/orogov/smbmount/from_DGX/cxr14-2\")"
   ]
  },
  {
   "cell_type": "code",
   "execution_count": 4,
   "metadata": {},
   "outputs": [],
   "source": [
    "cfg = get_last_config(\"outputs\", \"V2_nih_resnet18_vgg16_320x320_perceptual_bs16\", \"\")\n",
    "\n",
    "experiment_step = cfg.get(\"experiment_step\", \"\")"
   ]
  },
  {
   "cell_type": "code",
   "execution_count": 78,
   "metadata": {},
   "outputs": [
    {
     "name": "stdout",
     "output_type": "stream",
     "text": [
      "Checkpoint: /home/orogov/smbmount/a_galichin/experiments/alignment/checkpoints/V2_nih_resnet18_vgg16_320x320_perceptual_bs16/epoch=17.ckpt\n"
     ]
    }
   ],
   "source": [
    "ckpt_dir = Path(osp.join(cfg.experiment_path, \"checkpoints\", cfg.experiment_name, experiment_step))\n",
    "ckpt_path = get_last_ckpt(ckpt_dir)\n",
    "\n",
    "print(f\"Checkpoint: {ckpt_path}\")\n",
    "\n",
    "model_cfg = cfg.model\n",
    "\n",
    "model = PLAlignmentModel.load_from_checkpoint(ckpt_path, model_config=model_cfg)"
   ]
  },
  {
   "cell_type": "code",
   "execution_count": 6,
   "metadata": {},
   "outputs": [],
   "source": [
    "transforms = [A.Resize(1024, 1024, always_apply=True), GrayToRGB(always_apply=True), ToTensorV2()]\n",
    "anchor_transforms = [A.Resize(320, 320), GrayToRGB(always_apply=True), ToTensorV2()]\n",
    "\n",
    "dataset = ChestXRayAlignmentDataset(\n",
    "    main_dir,\n",
    "    transforms,\n",
    "    anchor_transforms,\n",
    "    anchor=\"canonical_chest\",\n",
    "    split=\"train_val_list\"\n",
    ")"
   ]
  },
  {
   "cell_type": "code",
   "execution_count": null,
   "metadata": {},
   "outputs": [],
   "source": []
  }
 ],
 "metadata": {
  "kernelspec": {
   "display_name": "Python 3.8.12 ('pytorch')",
   "language": "python",
   "name": "python3"
  },
  "language_info": {
   "codemirror_mode": {
    "name": "ipython",
    "version": 3
   },
   "file_extension": ".py",
   "mimetype": "text/x-python",
   "name": "python",
   "nbconvert_exporter": "python",
   "pygments_lexer": "ipython3",
   "version": "3.8.12"
  },
  "orig_nbformat": 4,
  "vscode": {
   "interpreter": {
    "hash": "c38dece65c3568b8e30e866343fbaf4d9ef11fda3b2ad7bbba199505d4cc5135"
   }
  }
 },
 "nbformat": 4,
 "nbformat_minor": 2
}
